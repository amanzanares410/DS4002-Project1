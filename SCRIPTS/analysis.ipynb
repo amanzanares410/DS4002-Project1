{
  "cells": [
    {
      "cell_type": "markdown",
      "id": "13ad028b-72b7-43ed-aa78-96fd4e518040",
      "metadata": {
        "id": "13ad028b-72b7-43ed-aa78-96fd4e518040"
      },
      "source": [
        "# Data Analysis\n",
        "\n"
      ]
    },
    {
      "cell_type": "code",
      "source": [
        "!pip install ace-tools"
      ],
      "metadata": {
        "id": "fV9YD1-co8P7",
        "outputId": "bbf185fb-1a1c-4f97-a998-5554f9173a15",
        "colab": {
          "base_uri": "https://localhost:8080/"
        }
      },
      "id": "fV9YD1-co8P7",
      "execution_count": 15,
      "outputs": [
        {
          "output_type": "stream",
          "name": "stdout",
          "text": [
            "Requirement already satisfied: ace-tools in /usr/local/lib/python3.10/dist-packages (0.0)\n"
          ]
        }
      ]
    },
    {
      "cell_type": "code",
      "source": [
        "import pandas as pd\n",
        "import seaborn as sns\n",
        "import matplotlib.pyplot as plt\n",
        "import numpy as np\n",
        "\n",
        "amazon = pd.read_csv(\"https://raw.githubusercontent.com/amanzanares410/ds4002-project1/refs/heads/main/DATA/amazon_clothing_reviews.csv\")\n",
        "print(amazon.shape)\n",
        "amazon.head()\n"
      ],
      "metadata": {
        "id": "ahx4Bfox6TL2",
        "colab": {
          "base_uri": "https://localhost:8080/",
          "height": 275
        },
        "outputId": "cecb7edf-837c-4dd8-8696-27361c9b882f"
      },
      "id": "ahx4Bfox6TL2",
      "execution_count": 16,
      "outputs": [
        {
          "output_type": "stream",
          "name": "stdout",
          "text": [
            "(6525, 11)\n"
          ]
        },
        {
          "output_type": "execute_result",
          "data": {
            "text/plain": [
              "   Unnamed: 0  Clothing ID  Age                    Title  \\\n",
              "0           0          767   33                      NaN   \n",
              "1           1         1080   34                      NaN   \n",
              "2           2         1077   60  Some major design flaws   \n",
              "3           3         1049   50         My favorite buy!   \n",
              "4           4          847   47         Flattering shirt   \n",
              "\n",
              "                                         Review Text  Rating  Recommended IND  \\\n",
              "0  Absolutely wonderful - silky and sexy and comf...       4                1   \n",
              "1  Love this dress!  it's sooo pretty.  i happene...       5                1   \n",
              "2  I had such high hopes for this dress and reall...       3                0   \n",
              "3  I love, love, love this jumpsuit. it's fun, fl...       5                1   \n",
              "4  This shirt is very flattering to all due to th...       5                1   \n",
              "\n",
              "   Positive Feedback Count   Division Name Department Name Class Name  \n",
              "0                        0       Initmates        Intimate  Intimates  \n",
              "1                        4         General         Dresses    Dresses  \n",
              "2                        0         General         Dresses    Dresses  \n",
              "3                        0  General Petite         Bottoms      Pants  \n",
              "4                        6         General            Tops    Blouses  "
            ],
            "text/html": [
              "\n",
              "  <div id=\"df-8968470e-5169-48b1-9b39-030c801f0b4a\" class=\"colab-df-container\">\n",
              "    <div>\n",
              "<style scoped>\n",
              "    .dataframe tbody tr th:only-of-type {\n",
              "        vertical-align: middle;\n",
              "    }\n",
              "\n",
              "    .dataframe tbody tr th {\n",
              "        vertical-align: top;\n",
              "    }\n",
              "\n",
              "    .dataframe thead th {\n",
              "        text-align: right;\n",
              "    }\n",
              "</style>\n",
              "<table border=\"1\" class=\"dataframe\">\n",
              "  <thead>\n",
              "    <tr style=\"text-align: right;\">\n",
              "      <th></th>\n",
              "      <th>Unnamed: 0</th>\n",
              "      <th>Clothing ID</th>\n",
              "      <th>Age</th>\n",
              "      <th>Title</th>\n",
              "      <th>Review Text</th>\n",
              "      <th>Rating</th>\n",
              "      <th>Recommended IND</th>\n",
              "      <th>Positive Feedback Count</th>\n",
              "      <th>Division Name</th>\n",
              "      <th>Department Name</th>\n",
              "      <th>Class Name</th>\n",
              "    </tr>\n",
              "  </thead>\n",
              "  <tbody>\n",
              "    <tr>\n",
              "      <th>0</th>\n",
              "      <td>0</td>\n",
              "      <td>767</td>\n",
              "      <td>33</td>\n",
              "      <td>NaN</td>\n",
              "      <td>Absolutely wonderful - silky and sexy and comf...</td>\n",
              "      <td>4</td>\n",
              "      <td>1</td>\n",
              "      <td>0</td>\n",
              "      <td>Initmates</td>\n",
              "      <td>Intimate</td>\n",
              "      <td>Intimates</td>\n",
              "    </tr>\n",
              "    <tr>\n",
              "      <th>1</th>\n",
              "      <td>1</td>\n",
              "      <td>1080</td>\n",
              "      <td>34</td>\n",
              "      <td>NaN</td>\n",
              "      <td>Love this dress!  it's sooo pretty.  i happene...</td>\n",
              "      <td>5</td>\n",
              "      <td>1</td>\n",
              "      <td>4</td>\n",
              "      <td>General</td>\n",
              "      <td>Dresses</td>\n",
              "      <td>Dresses</td>\n",
              "    </tr>\n",
              "    <tr>\n",
              "      <th>2</th>\n",
              "      <td>2</td>\n",
              "      <td>1077</td>\n",
              "      <td>60</td>\n",
              "      <td>Some major design flaws</td>\n",
              "      <td>I had such high hopes for this dress and reall...</td>\n",
              "      <td>3</td>\n",
              "      <td>0</td>\n",
              "      <td>0</td>\n",
              "      <td>General</td>\n",
              "      <td>Dresses</td>\n",
              "      <td>Dresses</td>\n",
              "    </tr>\n",
              "    <tr>\n",
              "      <th>3</th>\n",
              "      <td>3</td>\n",
              "      <td>1049</td>\n",
              "      <td>50</td>\n",
              "      <td>My favorite buy!</td>\n",
              "      <td>I love, love, love this jumpsuit. it's fun, fl...</td>\n",
              "      <td>5</td>\n",
              "      <td>1</td>\n",
              "      <td>0</td>\n",
              "      <td>General Petite</td>\n",
              "      <td>Bottoms</td>\n",
              "      <td>Pants</td>\n",
              "    </tr>\n",
              "    <tr>\n",
              "      <th>4</th>\n",
              "      <td>4</td>\n",
              "      <td>847</td>\n",
              "      <td>47</td>\n",
              "      <td>Flattering shirt</td>\n",
              "      <td>This shirt is very flattering to all due to th...</td>\n",
              "      <td>5</td>\n",
              "      <td>1</td>\n",
              "      <td>6</td>\n",
              "      <td>General</td>\n",
              "      <td>Tops</td>\n",
              "      <td>Blouses</td>\n",
              "    </tr>\n",
              "  </tbody>\n",
              "</table>\n",
              "</div>\n",
              "    <div class=\"colab-df-buttons\">\n",
              "\n",
              "  <div class=\"colab-df-container\">\n",
              "    <button class=\"colab-df-convert\" onclick=\"convertToInteractive('df-8968470e-5169-48b1-9b39-030c801f0b4a')\"\n",
              "            title=\"Convert this dataframe to an interactive table.\"\n",
              "            style=\"display:none;\">\n",
              "\n",
              "  <svg xmlns=\"http://www.w3.org/2000/svg\" height=\"24px\" viewBox=\"0 -960 960 960\">\n",
              "    <path d=\"M120-120v-720h720v720H120Zm60-500h600v-160H180v160Zm220 220h160v-160H400v160Zm0 220h160v-160H400v160ZM180-400h160v-160H180v160Zm440 0h160v-160H620v160ZM180-180h160v-160H180v160Zm440 0h160v-160H620v160Z\"/>\n",
              "  </svg>\n",
              "    </button>\n",
              "\n",
              "  <style>\n",
              "    .colab-df-container {\n",
              "      display:flex;\n",
              "      gap: 12px;\n",
              "    }\n",
              "\n",
              "    .colab-df-convert {\n",
              "      background-color: #E8F0FE;\n",
              "      border: none;\n",
              "      border-radius: 50%;\n",
              "      cursor: pointer;\n",
              "      display: none;\n",
              "      fill: #1967D2;\n",
              "      height: 32px;\n",
              "      padding: 0 0 0 0;\n",
              "      width: 32px;\n",
              "    }\n",
              "\n",
              "    .colab-df-convert:hover {\n",
              "      background-color: #E2EBFA;\n",
              "      box-shadow: 0px 1px 2px rgba(60, 64, 67, 0.3), 0px 1px 3px 1px rgba(60, 64, 67, 0.15);\n",
              "      fill: #174EA6;\n",
              "    }\n",
              "\n",
              "    .colab-df-buttons div {\n",
              "      margin-bottom: 4px;\n",
              "    }\n",
              "\n",
              "    [theme=dark] .colab-df-convert {\n",
              "      background-color: #3B4455;\n",
              "      fill: #D2E3FC;\n",
              "    }\n",
              "\n",
              "    [theme=dark] .colab-df-convert:hover {\n",
              "      background-color: #434B5C;\n",
              "      box-shadow: 0px 1px 3px 1px rgba(0, 0, 0, 0.15);\n",
              "      filter: drop-shadow(0px 1px 2px rgba(0, 0, 0, 0.3));\n",
              "      fill: #FFFFFF;\n",
              "    }\n",
              "  </style>\n",
              "\n",
              "    <script>\n",
              "      const buttonEl =\n",
              "        document.querySelector('#df-8968470e-5169-48b1-9b39-030c801f0b4a button.colab-df-convert');\n",
              "      buttonEl.style.display =\n",
              "        google.colab.kernel.accessAllowed ? 'block' : 'none';\n",
              "\n",
              "      async function convertToInteractive(key) {\n",
              "        const element = document.querySelector('#df-8968470e-5169-48b1-9b39-030c801f0b4a');\n",
              "        const dataTable =\n",
              "          await google.colab.kernel.invokeFunction('convertToInteractive',\n",
              "                                                    [key], {});\n",
              "        if (!dataTable) return;\n",
              "\n",
              "        const docLinkHtml = 'Like what you see? Visit the ' +\n",
              "          '<a target=\"_blank\" href=https://colab.research.google.com/notebooks/data_table.ipynb>data table notebook</a>'\n",
              "          + ' to learn more about interactive tables.';\n",
              "        element.innerHTML = '';\n",
              "        dataTable['output_type'] = 'display_data';\n",
              "        await google.colab.output.renderOutput(dataTable, element);\n",
              "        const docLink = document.createElement('div');\n",
              "        docLink.innerHTML = docLinkHtml;\n",
              "        element.appendChild(docLink);\n",
              "      }\n",
              "    </script>\n",
              "  </div>\n",
              "\n",
              "\n",
              "<div id=\"df-baab2b34-0cfe-4bb9-8acb-f125417d7152\">\n",
              "  <button class=\"colab-df-quickchart\" onclick=\"quickchart('df-baab2b34-0cfe-4bb9-8acb-f125417d7152')\"\n",
              "            title=\"Suggest charts\"\n",
              "            style=\"display:none;\">\n",
              "\n",
              "<svg xmlns=\"http://www.w3.org/2000/svg\" height=\"24px\"viewBox=\"0 0 24 24\"\n",
              "     width=\"24px\">\n",
              "    <g>\n",
              "        <path d=\"M19 3H5c-1.1 0-2 .9-2 2v14c0 1.1.9 2 2 2h14c1.1 0 2-.9 2-2V5c0-1.1-.9-2-2-2zM9 17H7v-7h2v7zm4 0h-2V7h2v10zm4 0h-2v-4h2v4z\"/>\n",
              "    </g>\n",
              "</svg>\n",
              "  </button>\n",
              "\n",
              "<style>\n",
              "  .colab-df-quickchart {\n",
              "      --bg-color: #E8F0FE;\n",
              "      --fill-color: #1967D2;\n",
              "      --hover-bg-color: #E2EBFA;\n",
              "      --hover-fill-color: #174EA6;\n",
              "      --disabled-fill-color: #AAA;\n",
              "      --disabled-bg-color: #DDD;\n",
              "  }\n",
              "\n",
              "  [theme=dark] .colab-df-quickchart {\n",
              "      --bg-color: #3B4455;\n",
              "      --fill-color: #D2E3FC;\n",
              "      --hover-bg-color: #434B5C;\n",
              "      --hover-fill-color: #FFFFFF;\n",
              "      --disabled-bg-color: #3B4455;\n",
              "      --disabled-fill-color: #666;\n",
              "  }\n",
              "\n",
              "  .colab-df-quickchart {\n",
              "    background-color: var(--bg-color);\n",
              "    border: none;\n",
              "    border-radius: 50%;\n",
              "    cursor: pointer;\n",
              "    display: none;\n",
              "    fill: var(--fill-color);\n",
              "    height: 32px;\n",
              "    padding: 0;\n",
              "    width: 32px;\n",
              "  }\n",
              "\n",
              "  .colab-df-quickchart:hover {\n",
              "    background-color: var(--hover-bg-color);\n",
              "    box-shadow: 0 1px 2px rgba(60, 64, 67, 0.3), 0 1px 3px 1px rgba(60, 64, 67, 0.15);\n",
              "    fill: var(--button-hover-fill-color);\n",
              "  }\n",
              "\n",
              "  .colab-df-quickchart-complete:disabled,\n",
              "  .colab-df-quickchart-complete:disabled:hover {\n",
              "    background-color: var(--disabled-bg-color);\n",
              "    fill: var(--disabled-fill-color);\n",
              "    box-shadow: none;\n",
              "  }\n",
              "\n",
              "  .colab-df-spinner {\n",
              "    border: 2px solid var(--fill-color);\n",
              "    border-color: transparent;\n",
              "    border-bottom-color: var(--fill-color);\n",
              "    animation:\n",
              "      spin 1s steps(1) infinite;\n",
              "  }\n",
              "\n",
              "  @keyframes spin {\n",
              "    0% {\n",
              "      border-color: transparent;\n",
              "      border-bottom-color: var(--fill-color);\n",
              "      border-left-color: var(--fill-color);\n",
              "    }\n",
              "    20% {\n",
              "      border-color: transparent;\n",
              "      border-left-color: var(--fill-color);\n",
              "      border-top-color: var(--fill-color);\n",
              "    }\n",
              "    30% {\n",
              "      border-color: transparent;\n",
              "      border-left-color: var(--fill-color);\n",
              "      border-top-color: var(--fill-color);\n",
              "      border-right-color: var(--fill-color);\n",
              "    }\n",
              "    40% {\n",
              "      border-color: transparent;\n",
              "      border-right-color: var(--fill-color);\n",
              "      border-top-color: var(--fill-color);\n",
              "    }\n",
              "    60% {\n",
              "      border-color: transparent;\n",
              "      border-right-color: var(--fill-color);\n",
              "    }\n",
              "    80% {\n",
              "      border-color: transparent;\n",
              "      border-right-color: var(--fill-color);\n",
              "      border-bottom-color: var(--fill-color);\n",
              "    }\n",
              "    90% {\n",
              "      border-color: transparent;\n",
              "      border-bottom-color: var(--fill-color);\n",
              "    }\n",
              "  }\n",
              "</style>\n",
              "\n",
              "  <script>\n",
              "    async function quickchart(key) {\n",
              "      const quickchartButtonEl =\n",
              "        document.querySelector('#' + key + ' button');\n",
              "      quickchartButtonEl.disabled = true;  // To prevent multiple clicks.\n",
              "      quickchartButtonEl.classList.add('colab-df-spinner');\n",
              "      try {\n",
              "        const charts = await google.colab.kernel.invokeFunction(\n",
              "            'suggestCharts', [key], {});\n",
              "      } catch (error) {\n",
              "        console.error('Error during call to suggestCharts:', error);\n",
              "      }\n",
              "      quickchartButtonEl.classList.remove('colab-df-spinner');\n",
              "      quickchartButtonEl.classList.add('colab-df-quickchart-complete');\n",
              "    }\n",
              "    (() => {\n",
              "      let quickchartButtonEl =\n",
              "        document.querySelector('#df-baab2b34-0cfe-4bb9-8acb-f125417d7152 button');\n",
              "      quickchartButtonEl.style.display =\n",
              "        google.colab.kernel.accessAllowed ? 'block' : 'none';\n",
              "    })();\n",
              "  </script>\n",
              "</div>\n",
              "\n",
              "    </div>\n",
              "  </div>\n"
            ],
            "application/vnd.google.colaboratory.intrinsic+json": {
              "type": "dataframe",
              "variable_name": "amazon",
              "summary": "{\n  \"name\": \"amazon\",\n  \"rows\": 6525,\n  \"fields\": [\n    {\n      \"column\": \"Unnamed: 0\",\n      \"properties\": {\n        \"dtype\": \"number\",\n        \"std\": 1883,\n        \"min\": 0,\n        \"max\": 6524,\n        \"num_unique_values\": 6525,\n        \"samples\": [\n          4832,\n          5613,\n          6123\n        ],\n        \"semantic_type\": \"\",\n        \"description\": \"\"\n      }\n    },\n    {\n      \"column\": \"Clothing ID\",\n      \"properties\": {\n        \"dtype\": \"number\",\n        \"std\": 194,\n        \"min\": 2,\n        \"max\": 1204,\n        \"num_unique_values\": 462,\n        \"samples\": [\n          1009,\n          836,\n          1008\n        ],\n        \"semantic_type\": \"\",\n        \"description\": \"\"\n      }\n    },\n    {\n      \"column\": \"Age\",\n      \"properties\": {\n        \"dtype\": \"number\",\n        \"std\": 12,\n        \"min\": 19,\n        \"max\": 93,\n        \"num_unique_values\": 70,\n        \"samples\": [\n          40,\n          33,\n          72\n        ],\n        \"semantic_type\": \"\",\n        \"description\": \"\"\n      }\n    },\n    {\n      \"column\": \"Title\",\n      \"properties\": {\n        \"dtype\": \"string\",\n        \"num_unique_values\": 4385,\n        \"samples\": [\n          \"Frayed bottom hem.....\",\n          \"Love these pants but they are not colorfast --\",\n          \"If only it looked like the photo.....\"\n        ],\n        \"semantic_type\": \"\",\n        \"description\": \"\"\n      }\n    },\n    {\n      \"column\": \"Review Text\",\n      \"properties\": {\n        \"dtype\": \"string\",\n        \"num_unique_values\": 6296,\n        \"samples\": [\n          \"Kicky looking pants, that i got at a bargain basement steal. i'd be kicking myself if i didn't buy them. can't wait to wear them once it warms up. they'll look great with a lightweight, boxy sweater and flats. i tried on the 4 and the 2 and the 2 is perfect. the fabric has a nice, fluid feel to it. i always swore to my husband i'd never wear plaids, but i guess i lied.\",\n          \"These pants are very soft and comfortable.  great for lounging around the house and for sleeping.\",\n          \"This dress is lovely. the colors seem a bit more muted than as reflected on model; otherwise, looks very similar to photo. it has a slimline style and is very flattering. the dress has a more casual appearance than as is reflected in the photo. its really more of a day dress than a special occasion dress, notwithstanding another reviewer's opinion to the contrary.\\n\\ni ordered up a size due to reading other reviews. i found it to be a bit larger than i wanted so i washed and tumble dried it on low\"\n        ],\n        \"semantic_type\": \"\",\n        \"description\": \"\"\n      }\n    },\n    {\n      \"column\": \"Rating\",\n      \"properties\": {\n        \"dtype\": \"number\",\n        \"std\": 1,\n        \"min\": 1,\n        \"max\": 5,\n        \"num_unique_values\": 5,\n        \"samples\": [\n          5,\n          1,\n          3\n        ],\n        \"semantic_type\": \"\",\n        \"description\": \"\"\n      }\n    },\n    {\n      \"column\": \"Recommended IND\",\n      \"properties\": {\n        \"dtype\": \"number\",\n        \"std\": 0,\n        \"min\": 0,\n        \"max\": 1,\n        \"num_unique_values\": 2,\n        \"samples\": [\n          0,\n          1\n        ],\n        \"semantic_type\": \"\",\n        \"description\": \"\"\n      }\n    },\n    {\n      \"column\": \"Positive Feedback Count\",\n      \"properties\": {\n        \"dtype\": \"number\",\n        \"std\": 6,\n        \"min\": 0,\n        \"max\": 117,\n        \"num_unique_values\": 61,\n        \"samples\": [\n          0,\n          2\n        ],\n        \"semantic_type\": \"\",\n        \"description\": \"\"\n      }\n    },\n    {\n      \"column\": \"Division Name\",\n      \"properties\": {\n        \"dtype\": \"category\",\n        \"num_unique_values\": 3,\n        \"samples\": [\n          \"Initmates\",\n          \"General\"\n        ],\n        \"semantic_type\": \"\",\n        \"description\": \"\"\n      }\n    },\n    {\n      \"column\": \"Department Name\",\n      \"properties\": {\n        \"dtype\": \"category\",\n        \"num_unique_values\": 6,\n        \"samples\": [\n          \"Intimate\",\n          \"Dresses\"\n        ],\n        \"semantic_type\": \"\",\n        \"description\": \"\"\n      }\n    },\n    {\n      \"column\": \"Class Name\",\n      \"properties\": {\n        \"dtype\": \"category\",\n        \"num_unique_values\": 19,\n        \"samples\": [\n          \"Intimates\",\n          \"Outerwear\"\n        ],\n        \"semantic_type\": \"\",\n        \"description\": \"\"\n      }\n    }\n  ]\n}"
            }
          },
          "metadata": {},
          "execution_count": 16
        }
      ]
    },
    {
      "cell_type": "markdown",
      "source": [
        "The data dimensions are 6525 x 11, so there are 6525 observations of 11\n",
        "variables.\n",
        "\n"
      ],
      "metadata": {
        "id": "ER3EqnS2tzaG"
      },
      "id": "ER3EqnS2tzaG"
    },
    {
      "cell_type": "code",
      "source": [
        "fashion_nova = pd.read_csv('https://raw.githubusercontent.com/amanzanares410/DS4002-Project1/refs/heads/main/DATA/fashionnova_reviews.csv')\n",
        "print(fashion_nova.shape)\n",
        "fashion_nova.head()"
      ],
      "metadata": {
        "colab": {
          "base_uri": "https://localhost:8080/",
          "height": 327
        },
        "id": "Bj_Vj4s3e0te",
        "outputId": "fd6312a3-ecb8-4c29-f9f4-894e62e023cf"
      },
      "id": "Bj_Vj4s3e0te",
      "execution_count": 17,
      "outputs": [
        {
          "output_type": "stream",
          "name": "stdout",
          "text": [
            "(131980, 9)\n"
          ]
        },
        {
          "output_type": "execute_result",
          "data": {
            "text/plain": [
              "     Reviewer Name                     Profile Link Country Review Count  \\\n",
              "0        Champagne  /users/66c78240087b6269ffbcb5fb      US     1 review   \n",
              "1      Vg customer  /users/6618fdb53d4198001210cbe7      VG    3 reviews   \n",
              "2  Colleen Burgher  /users/64e9595206be1a001244ff73      US    3 reviews   \n",
              "3            R.G.M  /users/66c58ad1c6ab36352a08f57a      US     1 review   \n",
              "4   Rosalyn Cousar  /users/60ad4b6ef3788e001adbb8e3      US    5 reviews   \n",
              "\n",
              "                Review Date                  Rating  \\\n",
              "0  2024-08-22T20:24:02.000Z  Rated 5 out of 5 stars   \n",
              "1  2024-08-21T05:43:11.000Z  Rated 5 out of 5 stars   \n",
              "2  2024-08-21T17:09:14.000Z  Rated 5 out of 5 stars   \n",
              "3  2024-08-21T08:36:03.000Z  Rated 5 out of 5 stars   \n",
              "4  2024-08-22T00:46:16.000Z  Rated 3 out of 5 stars   \n",
              "\n",
              "                          Review Title  \\\n",
              "0    I love ordering from fashion nova   \n",
              "1   Top tier content for fashion nova    \n",
              "2  Prices and quality of products are…   \n",
              "3               Great customer service   \n",
              "4                    False advertising   \n",
              "\n",
              "                                         Review Text Date of Experience  \n",
              "0  I love ordering from fashion nova. The clothes...    August 22, 2024  \n",
              "1  Always amazing clothes and the fast shipping i...    August 18, 2024  \n",
              "2  Prices and quality of products are GREAT Would...    August 21, 2024  \n",
              "3  Great customer service. I was helped until the...    August 20, 2024  \n",
              "4  Disappointing experience. You don’t live up to...    August 21, 2024  "
            ],
            "text/html": [
              "\n",
              "  <div id=\"df-85a3e761-ea44-48f5-a177-6a6de5887e4d\" class=\"colab-df-container\">\n",
              "    <div>\n",
              "<style scoped>\n",
              "    .dataframe tbody tr th:only-of-type {\n",
              "        vertical-align: middle;\n",
              "    }\n",
              "\n",
              "    .dataframe tbody tr th {\n",
              "        vertical-align: top;\n",
              "    }\n",
              "\n",
              "    .dataframe thead th {\n",
              "        text-align: right;\n",
              "    }\n",
              "</style>\n",
              "<table border=\"1\" class=\"dataframe\">\n",
              "  <thead>\n",
              "    <tr style=\"text-align: right;\">\n",
              "      <th></th>\n",
              "      <th>Reviewer Name</th>\n",
              "      <th>Profile Link</th>\n",
              "      <th>Country</th>\n",
              "      <th>Review Count</th>\n",
              "      <th>Review Date</th>\n",
              "      <th>Rating</th>\n",
              "      <th>Review Title</th>\n",
              "      <th>Review Text</th>\n",
              "      <th>Date of Experience</th>\n",
              "    </tr>\n",
              "  </thead>\n",
              "  <tbody>\n",
              "    <tr>\n",
              "      <th>0</th>\n",
              "      <td>Champagne</td>\n",
              "      <td>/users/66c78240087b6269ffbcb5fb</td>\n",
              "      <td>US</td>\n",
              "      <td>1 review</td>\n",
              "      <td>2024-08-22T20:24:02.000Z</td>\n",
              "      <td>Rated 5 out of 5 stars</td>\n",
              "      <td>I love ordering from fashion nova</td>\n",
              "      <td>I love ordering from fashion nova. The clothes...</td>\n",
              "      <td>August 22, 2024</td>\n",
              "    </tr>\n",
              "    <tr>\n",
              "      <th>1</th>\n",
              "      <td>Vg customer</td>\n",
              "      <td>/users/6618fdb53d4198001210cbe7</td>\n",
              "      <td>VG</td>\n",
              "      <td>3 reviews</td>\n",
              "      <td>2024-08-21T05:43:11.000Z</td>\n",
              "      <td>Rated 5 out of 5 stars</td>\n",
              "      <td>Top tier content for fashion nova</td>\n",
              "      <td>Always amazing clothes and the fast shipping i...</td>\n",
              "      <td>August 18, 2024</td>\n",
              "    </tr>\n",
              "    <tr>\n",
              "      <th>2</th>\n",
              "      <td>Colleen Burgher</td>\n",
              "      <td>/users/64e9595206be1a001244ff73</td>\n",
              "      <td>US</td>\n",
              "      <td>3 reviews</td>\n",
              "      <td>2024-08-21T17:09:14.000Z</td>\n",
              "      <td>Rated 5 out of 5 stars</td>\n",
              "      <td>Prices and quality of products are…</td>\n",
              "      <td>Prices and quality of products are GREAT Would...</td>\n",
              "      <td>August 21, 2024</td>\n",
              "    </tr>\n",
              "    <tr>\n",
              "      <th>3</th>\n",
              "      <td>R.G.M</td>\n",
              "      <td>/users/66c58ad1c6ab36352a08f57a</td>\n",
              "      <td>US</td>\n",
              "      <td>1 review</td>\n",
              "      <td>2024-08-21T08:36:03.000Z</td>\n",
              "      <td>Rated 5 out of 5 stars</td>\n",
              "      <td>Great customer service</td>\n",
              "      <td>Great customer service. I was helped until the...</td>\n",
              "      <td>August 20, 2024</td>\n",
              "    </tr>\n",
              "    <tr>\n",
              "      <th>4</th>\n",
              "      <td>Rosalyn Cousar</td>\n",
              "      <td>/users/60ad4b6ef3788e001adbb8e3</td>\n",
              "      <td>US</td>\n",
              "      <td>5 reviews</td>\n",
              "      <td>2024-08-22T00:46:16.000Z</td>\n",
              "      <td>Rated 3 out of 5 stars</td>\n",
              "      <td>False advertising</td>\n",
              "      <td>Disappointing experience. You don’t live up to...</td>\n",
              "      <td>August 21, 2024</td>\n",
              "    </tr>\n",
              "  </tbody>\n",
              "</table>\n",
              "</div>\n",
              "    <div class=\"colab-df-buttons\">\n",
              "\n",
              "  <div class=\"colab-df-container\">\n",
              "    <button class=\"colab-df-convert\" onclick=\"convertToInteractive('df-85a3e761-ea44-48f5-a177-6a6de5887e4d')\"\n",
              "            title=\"Convert this dataframe to an interactive table.\"\n",
              "            style=\"display:none;\">\n",
              "\n",
              "  <svg xmlns=\"http://www.w3.org/2000/svg\" height=\"24px\" viewBox=\"0 -960 960 960\">\n",
              "    <path d=\"M120-120v-720h720v720H120Zm60-500h600v-160H180v160Zm220 220h160v-160H400v160Zm0 220h160v-160H400v160ZM180-400h160v-160H180v160Zm440 0h160v-160H620v160ZM180-180h160v-160H180v160Zm440 0h160v-160H620v160Z\"/>\n",
              "  </svg>\n",
              "    </button>\n",
              "\n",
              "  <style>\n",
              "    .colab-df-container {\n",
              "      display:flex;\n",
              "      gap: 12px;\n",
              "    }\n",
              "\n",
              "    .colab-df-convert {\n",
              "      background-color: #E8F0FE;\n",
              "      border: none;\n",
              "      border-radius: 50%;\n",
              "      cursor: pointer;\n",
              "      display: none;\n",
              "      fill: #1967D2;\n",
              "      height: 32px;\n",
              "      padding: 0 0 0 0;\n",
              "      width: 32px;\n",
              "    }\n",
              "\n",
              "    .colab-df-convert:hover {\n",
              "      background-color: #E2EBFA;\n",
              "      box-shadow: 0px 1px 2px rgba(60, 64, 67, 0.3), 0px 1px 3px 1px rgba(60, 64, 67, 0.15);\n",
              "      fill: #174EA6;\n",
              "    }\n",
              "\n",
              "    .colab-df-buttons div {\n",
              "      margin-bottom: 4px;\n",
              "    }\n",
              "\n",
              "    [theme=dark] .colab-df-convert {\n",
              "      background-color: #3B4455;\n",
              "      fill: #D2E3FC;\n",
              "    }\n",
              "\n",
              "    [theme=dark] .colab-df-convert:hover {\n",
              "      background-color: #434B5C;\n",
              "      box-shadow: 0px 1px 3px 1px rgba(0, 0, 0, 0.15);\n",
              "      filter: drop-shadow(0px 1px 2px rgba(0, 0, 0, 0.3));\n",
              "      fill: #FFFFFF;\n",
              "    }\n",
              "  </style>\n",
              "\n",
              "    <script>\n",
              "      const buttonEl =\n",
              "        document.querySelector('#df-85a3e761-ea44-48f5-a177-6a6de5887e4d button.colab-df-convert');\n",
              "      buttonEl.style.display =\n",
              "        google.colab.kernel.accessAllowed ? 'block' : 'none';\n",
              "\n",
              "      async function convertToInteractive(key) {\n",
              "        const element = document.querySelector('#df-85a3e761-ea44-48f5-a177-6a6de5887e4d');\n",
              "        const dataTable =\n",
              "          await google.colab.kernel.invokeFunction('convertToInteractive',\n",
              "                                                    [key], {});\n",
              "        if (!dataTable) return;\n",
              "\n",
              "        const docLinkHtml = 'Like what you see? Visit the ' +\n",
              "          '<a target=\"_blank\" href=https://colab.research.google.com/notebooks/data_table.ipynb>data table notebook</a>'\n",
              "          + ' to learn more about interactive tables.';\n",
              "        element.innerHTML = '';\n",
              "        dataTable['output_type'] = 'display_data';\n",
              "        await google.colab.output.renderOutput(dataTable, element);\n",
              "        const docLink = document.createElement('div');\n",
              "        docLink.innerHTML = docLinkHtml;\n",
              "        element.appendChild(docLink);\n",
              "      }\n",
              "    </script>\n",
              "  </div>\n",
              "\n",
              "\n",
              "<div id=\"df-043b21b6-2ee3-4eeb-9abc-1f776458ca47\">\n",
              "  <button class=\"colab-df-quickchart\" onclick=\"quickchart('df-043b21b6-2ee3-4eeb-9abc-1f776458ca47')\"\n",
              "            title=\"Suggest charts\"\n",
              "            style=\"display:none;\">\n",
              "\n",
              "<svg xmlns=\"http://www.w3.org/2000/svg\" height=\"24px\"viewBox=\"0 0 24 24\"\n",
              "     width=\"24px\">\n",
              "    <g>\n",
              "        <path d=\"M19 3H5c-1.1 0-2 .9-2 2v14c0 1.1.9 2 2 2h14c1.1 0 2-.9 2-2V5c0-1.1-.9-2-2-2zM9 17H7v-7h2v7zm4 0h-2V7h2v10zm4 0h-2v-4h2v4z\"/>\n",
              "    </g>\n",
              "</svg>\n",
              "  </button>\n",
              "\n",
              "<style>\n",
              "  .colab-df-quickchart {\n",
              "      --bg-color: #E8F0FE;\n",
              "      --fill-color: #1967D2;\n",
              "      --hover-bg-color: #E2EBFA;\n",
              "      --hover-fill-color: #174EA6;\n",
              "      --disabled-fill-color: #AAA;\n",
              "      --disabled-bg-color: #DDD;\n",
              "  }\n",
              "\n",
              "  [theme=dark] .colab-df-quickchart {\n",
              "      --bg-color: #3B4455;\n",
              "      --fill-color: #D2E3FC;\n",
              "      --hover-bg-color: #434B5C;\n",
              "      --hover-fill-color: #FFFFFF;\n",
              "      --disabled-bg-color: #3B4455;\n",
              "      --disabled-fill-color: #666;\n",
              "  }\n",
              "\n",
              "  .colab-df-quickchart {\n",
              "    background-color: var(--bg-color);\n",
              "    border: none;\n",
              "    border-radius: 50%;\n",
              "    cursor: pointer;\n",
              "    display: none;\n",
              "    fill: var(--fill-color);\n",
              "    height: 32px;\n",
              "    padding: 0;\n",
              "    width: 32px;\n",
              "  }\n",
              "\n",
              "  .colab-df-quickchart:hover {\n",
              "    background-color: var(--hover-bg-color);\n",
              "    box-shadow: 0 1px 2px rgba(60, 64, 67, 0.3), 0 1px 3px 1px rgba(60, 64, 67, 0.15);\n",
              "    fill: var(--button-hover-fill-color);\n",
              "  }\n",
              "\n",
              "  .colab-df-quickchart-complete:disabled,\n",
              "  .colab-df-quickchart-complete:disabled:hover {\n",
              "    background-color: var(--disabled-bg-color);\n",
              "    fill: var(--disabled-fill-color);\n",
              "    box-shadow: none;\n",
              "  }\n",
              "\n",
              "  .colab-df-spinner {\n",
              "    border: 2px solid var(--fill-color);\n",
              "    border-color: transparent;\n",
              "    border-bottom-color: var(--fill-color);\n",
              "    animation:\n",
              "      spin 1s steps(1) infinite;\n",
              "  }\n",
              "\n",
              "  @keyframes spin {\n",
              "    0% {\n",
              "      border-color: transparent;\n",
              "      border-bottom-color: var(--fill-color);\n",
              "      border-left-color: var(--fill-color);\n",
              "    }\n",
              "    20% {\n",
              "      border-color: transparent;\n",
              "      border-left-color: var(--fill-color);\n",
              "      border-top-color: var(--fill-color);\n",
              "    }\n",
              "    30% {\n",
              "      border-color: transparent;\n",
              "      border-left-color: var(--fill-color);\n",
              "      border-top-color: var(--fill-color);\n",
              "      border-right-color: var(--fill-color);\n",
              "    }\n",
              "    40% {\n",
              "      border-color: transparent;\n",
              "      border-right-color: var(--fill-color);\n",
              "      border-top-color: var(--fill-color);\n",
              "    }\n",
              "    60% {\n",
              "      border-color: transparent;\n",
              "      border-right-color: var(--fill-color);\n",
              "    }\n",
              "    80% {\n",
              "      border-color: transparent;\n",
              "      border-right-color: var(--fill-color);\n",
              "      border-bottom-color: var(--fill-color);\n",
              "    }\n",
              "    90% {\n",
              "      border-color: transparent;\n",
              "      border-bottom-color: var(--fill-color);\n",
              "    }\n",
              "  }\n",
              "</style>\n",
              "\n",
              "  <script>\n",
              "    async function quickchart(key) {\n",
              "      const quickchartButtonEl =\n",
              "        document.querySelector('#' + key + ' button');\n",
              "      quickchartButtonEl.disabled = true;  // To prevent multiple clicks.\n",
              "      quickchartButtonEl.classList.add('colab-df-spinner');\n",
              "      try {\n",
              "        const charts = await google.colab.kernel.invokeFunction(\n",
              "            'suggestCharts', [key], {});\n",
              "      } catch (error) {\n",
              "        console.error('Error during call to suggestCharts:', error);\n",
              "      }\n",
              "      quickchartButtonEl.classList.remove('colab-df-spinner');\n",
              "      quickchartButtonEl.classList.add('colab-df-quickchart-complete');\n",
              "    }\n",
              "    (() => {\n",
              "      let quickchartButtonEl =\n",
              "        document.querySelector('#df-043b21b6-2ee3-4eeb-9abc-1f776458ca47 button');\n",
              "      quickchartButtonEl.style.display =\n",
              "        google.colab.kernel.accessAllowed ? 'block' : 'none';\n",
              "    })();\n",
              "  </script>\n",
              "</div>\n",
              "\n",
              "    </div>\n",
              "  </div>\n"
            ],
            "application/vnd.google.colaboratory.intrinsic+json": {
              "type": "dataframe",
              "variable_name": "fashion_nova"
            }
          },
          "metadata": {},
          "execution_count": 17
        }
      ]
    },
    {
      "cell_type": "code",
      "source": [
        "print(sum(amazon['Review Text'].isna()))\n",
        "print(sum(amazon['Title'].isna()))\n",
        "print(sum(amazon['Rating'].isna()))\n",
        "\n",
        "print(sum(fashion_nova['Review Text'].isna()))\n",
        "print(sum(fashion_nova['Review Title'].isna()))\n",
        "print(sum(fashion_nova['Rating'].isna()))"
      ],
      "metadata": {
        "colab": {
          "base_uri": "https://localhost:8080/"
        },
        "id": "Xud3Qj89MPGa",
        "outputId": "e3bb6974-712c-4142-ff95-ed09412445bb"
      },
      "id": "Xud3Qj89MPGa",
      "execution_count": 18,
      "outputs": [
        {
          "output_type": "stream",
          "name": "stdout",
          "text": [
            "229\n",
            "1068\n",
            "0\n",
            "0\n",
            "48\n",
            "0\n"
          ]
        }
      ]
    },
    {
      "cell_type": "code",
      "source": [
        "amazon = amazon.dropna(subset=['Review Text'])\n",
        "\n",
        "rating_column = fashion_nova['Rating'].str.extract(r'Rated (\\d) out of 5 stars').astype(int)\n",
        "fashion_nova['Rating'] = rating_column"
      ],
      "metadata": {
        "id": "GIYbkcSef3YC"
      },
      "id": "GIYbkcSef3YC",
      "execution_count": 19,
      "outputs": []
    },
    {
      "cell_type": "code",
      "source": [
        "print(sum(amazon['Review Text'].isna()))\n",
        "print(sum(fashion_nova['Review Text'].isna()))"
      ],
      "metadata": {
        "id": "SZMsnULKftOf",
        "outputId": "6cdb4462-728c-48e0-86e3-70ad2d8237ed",
        "colab": {
          "base_uri": "https://localhost:8080/"
        }
      },
      "id": "SZMsnULKftOf",
      "execution_count": 20,
      "outputs": [
        {
          "output_type": "stream",
          "name": "stdout",
          "text": [
            "0\n",
            "0\n"
          ]
        }
      ]
    },
    {
      "cell_type": "code",
      "source": [
        "df = pd.DataFrame()\n",
        "df['Fashion Nova_shipping'] = fashion_nova['Review Text'].str.count(r'\\bshipping\\b')\n",
        "df['Amazon_shipping'] = amazon['Review Text'].str.count(r'\\bshipping\\b')\n",
        "df['Fashion Nova_quality'] = fashion_nova['Review Text'].str.count(r'\\bquality\\b')\n",
        "df['Amazon_quality'] = amazon['Review Text'].str.count(r'\\bquality\\b')"
      ],
      "metadata": {
        "id": "F0Q8S2nb4ycs"
      },
      "id": "F0Q8S2nb4ycs",
      "execution_count": 21,
      "outputs": []
    },
    {
      "cell_type": "code",
      "source": [
        "# prompt: print count of each column in dataframe df\n",
        "\n",
        "for column in df.columns:\n",
        "  print(f\"Counts for {column}:\")\n",
        "  print(df[column].value_counts())\n",
        "  print(\"\\n\")\n"
      ],
      "metadata": {
        "colab": {
          "base_uri": "https://localhost:8080/"
        },
        "id": "Z_ZxgiUvFE7u",
        "outputId": "7f4ed26a-0ef4-4268-9287-177a2d851984"
      },
      "id": "Z_ZxgiUvFE7u",
      "execution_count": 22,
      "outputs": [
        {
          "output_type": "stream",
          "name": "stdout",
          "text": [
            "Counts for Fashion Nova_shipping:\n",
            "Fashion Nova_shipping\n",
            "0     124276\n",
            "1       6466\n",
            "2        921\n",
            "3        215\n",
            "4         56\n",
            "5         27\n",
            "6         10\n",
            "7          5\n",
            "8          2\n",
            "10         1\n",
            "9          1\n",
            "Name: count, dtype: int64\n",
            "\n",
            "\n",
            "Counts for Amazon_shipping:\n",
            "Amazon_shipping\n",
            "0.0    6282\n",
            "1.0      14\n",
            "Name: count, dtype: int64\n",
            "\n",
            "\n",
            "Counts for Fashion Nova_quality:\n",
            "Fashion Nova_quality\n",
            "0    123654\n",
            "1      8071\n",
            "2       222\n",
            "3        27\n",
            "4         4\n",
            "6         1\n",
            "5         1\n",
            "Name: count, dtype: int64\n",
            "\n",
            "\n",
            "Counts for Amazon_quality:\n",
            "Amazon_quality\n",
            "0.0    5707\n",
            "1.0     564\n",
            "2.0      23\n",
            "3.0       2\n",
            "Name: count, dtype: int64\n",
            "\n",
            "\n"
          ]
        }
      ]
    },
    {
      "cell_type": "code",
      "source": [
        "# Seperating by topic\n",
        "\n",
        "import nltk\n",
        "from nltk.corpus import stopwords\n",
        "from nltk.tokenize import word_tokenize\n",
        "nltk.download('stopwords')\n",
        "nltk.download('punkt')"
      ],
      "metadata": {
        "id": "yEGXL6CjfRS0",
        "outputId": "e3886fa9-bcbd-4feb-f72e-1c2e114291f6",
        "colab": {
          "base_uri": "https://localhost:8080/"
        }
      },
      "id": "yEGXL6CjfRS0",
      "execution_count": 23,
      "outputs": [
        {
          "output_type": "stream",
          "name": "stderr",
          "text": [
            "[nltk_data] Downloading package stopwords to /root/nltk_data...\n",
            "[nltk_data]   Package stopwords is already up-to-date!\n",
            "[nltk_data] Downloading package punkt to /root/nltk_data...\n",
            "[nltk_data]   Package punkt is already up-to-date!\n"
          ]
        },
        {
          "output_type": "execute_result",
          "data": {
            "text/plain": [
              "True"
            ]
          },
          "metadata": {},
          "execution_count": 23
        }
      ]
    },
    {
      "cell_type": "code",
      "source": [
        "# Need to determine what stopwords we want to use\n",
        "stop_words = set(stopwords.words('english'))\n",
        "custom_stop_words = {}\n",
        "stop_words.update(custom_stop_words)\n",
        "\n",
        "# Preprocessing the data\n",
        "def preprocess(text):\n",
        "  tokens = word_tokenize(text.lower())\n",
        "  tokens = [token for token in tokens if token.isalpha()]\n",
        "  tokens = [token for token in tokens if token not in stop_words]\n",
        "  return tokens\n",
        "\n",
        "amazon['Processed_Reviews'] = amazon['Review Text'].apply(preprocess)\n",
        "fashion_nova['Processed_Reviews'] = fashion_nova['Review Text'].apply(preprocess)\n"
      ],
      "metadata": {
        "id": "CfAWEYwWmU7J"
      },
      "id": "CfAWEYwWmU7J",
      "execution_count": 24,
      "outputs": []
    },
    {
      "cell_type": "code",
      "source": [
        "def categorize_review(text):\n",
        "  shipping_keywords = ['shipping', 'delivery', 'shipment', 'deliver', 'time', 'packaging', 'box', 'late', 'early', 'fast', 'slow', 'arrived', 'delivered', 'received']\n",
        "  quality_keywords = ['quality', 'fit', 'length', 'material', 'fabric', 'cheap', 'shape', 'style', 'clothing', 'made', 'size', 'thin']\n",
        "\n",
        "  shipping = any(word in text for word in shipping_keywords)\n",
        "  quality = any(word in text for word in quality_keywords)\n",
        "\n",
        "  if shipping and quality:\n",
        "    return 'Both'\n",
        "  elif shipping:\n",
        "    return 'Shipping'\n",
        "  elif quality:\n",
        "    return 'Quality'\n",
        "  else:\n",
        "    return 'Other'\n",
        "\n",
        "\n",
        "\n",
        "amazon['Category'] = amazon['Processed_Reviews'].apply(categorize_review)\n",
        "fashion_nova['Category'] = fashion_nova['Processed_Reviews'].apply(categorize_review)"
      ],
      "metadata": {
        "id": "0yFPZyl0mVyk"
      },
      "id": "0yFPZyl0mVyk",
      "execution_count": 25,
      "outputs": []
    },
    {
      "cell_type": "code",
      "source": [
        "# Category frequencies for Amazon\n",
        "amazon_category_counts = amazon['Category'].value_counts()\n",
        "\n",
        "# Category frequencies for Fashion Nova\n",
        "fashion_nova_category_counts = fashion_nova['Category'].value_counts()\n",
        "\n",
        "# Display counts\n",
        "category_comparison = pd.DataFrame({\n",
        "    'Amazon': amazon_category_counts,\n",
        "    'Fashion Nova': fashion_nova_category_counts\n",
        "}).fillna(0)\n",
        "\n",
        "\n",
        "print(category_comparison)"
      ],
      "metadata": {
        "id": "gd-y8ZQtnehj",
        "outputId": "6599bf29-491d-4ed4-c214-860407efb48e",
        "colab": {
          "base_uri": "https://localhost:8080/"
        }
      },
      "id": "gd-y8ZQtnehj",
      "execution_count": 26,
      "outputs": [
        {
          "output_type": "stream",
          "name": "stdout",
          "text": [
            "          Amazon  Fashion Nova\n",
            "Category                      \n",
            "Both         481          6825\n",
            "Other       1549         90651\n",
            "Quality     4091         17017\n",
            "Shipping     175         17487\n"
          ]
        }
      ]
    },
    {
      "cell_type": "code",
      "source": [
        "# prompt: calculate the percentage of each category in category_comparison over the total\n",
        "\n",
        "category_percentage = category_comparison.div(category_comparison.sum(axis=0), axis=1) * 100\n",
        "print(category_percentage)\n"
      ],
      "metadata": {
        "id": "Y4C3v06YwDqM",
        "outputId": "a961b23c-fa5b-44fa-b20b-991d75915cda",
        "colab": {
          "base_uri": "https://localhost:8080/"
        }
      },
      "id": "Y4C3v06YwDqM",
      "execution_count": 27,
      "outputs": [
        {
          "output_type": "stream",
          "name": "stdout",
          "text": [
            "             Amazon  Fashion Nova\n",
            "Category                         \n",
            "Both       7.639771      5.171238\n",
            "Other     24.602922     68.685407\n",
            "Quality   64.977764     12.893620\n",
            "Shipping   2.779543     13.249735\n"
          ]
        }
      ]
    },
    {
      "cell_type": "code",
      "source": [
        "import nltk\n",
        "nltk.download('vader_lexicon')"
      ],
      "metadata": {
        "id": "I0aHTs2NwTs0",
        "outputId": "a4dcdef9-82dc-4c29-f5a8-3255f5ed2a27",
        "colab": {
          "base_uri": "https://localhost:8080/"
        }
      },
      "id": "I0aHTs2NwTs0",
      "execution_count": 28,
      "outputs": [
        {
          "output_type": "stream",
          "name": "stderr",
          "text": [
            "[nltk_data] Downloading package vader_lexicon to /root/nltk_data...\n"
          ]
        },
        {
          "output_type": "execute_result",
          "data": {
            "text/plain": [
              "True"
            ]
          },
          "metadata": {},
          "execution_count": 28
        }
      ]
    },
    {
      "cell_type": "code",
      "source": [
        "# Importing the VADER sentiment analyzer\n",
        "from nltk.sentiment import SentimentIntensityAnalyzer\n",
        "\n",
        "# Initialize the VADER sentiment intensity analyzer\n",
        "sia = SentimentIntensityAnalyzer()\n",
        "\n",
        "# Function to get sentiment from text\n",
        "def get_sentiment(text):\n",
        "    sentiment_score = sia.polarity_scores(text)  # Returns a dictionary of sentiment scores\n",
        "    compound = sentiment_score['compound']  # Get the compound score which represents overall sentiment\n",
        "    if compound >= 0.05:\n",
        "        return 'Good'   # Positive sentiment\n",
        "    elif compound <= -0.05:\n",
        "        return 'Bad'    # Negative sentiment\n",
        "    else:\n",
        "        return 'Neutral'  # Neutral sentiment\n",
        "\n",
        "# Applying sentiment analysis to the original reviews (not the tokenized ones)\n",
        "amazon['Sentiment'] = amazon['Review Text'].apply(get_sentiment)\n",
        "fashion_nova['Sentiment'] = fashion_nova['Review Text'].apply(get_sentiment)\n",
        "\n",
        "# Optionally, you can also apply it to the processed reviews\n",
        "amazon['Processed_Sentiment'] = amazon['Processed_Reviews'].apply(lambda tokens: get_sentiment(' '.join(tokens)))\n",
        "fashion_nova['Processed_Sentiment'] = fashion_nova['Processed_Reviews'].apply(lambda tokens: get_sentiment(' '.join(tokens)))\n"
      ],
      "metadata": {
        "id": "KYDf4TnPxxD0"
      },
      "id": "KYDf4TnPxxD0",
      "execution_count": 29,
      "outputs": []
    },
    {
      "cell_type": "code",
      "source": [
        "print(amazon[['Review Text', 'Sentiment', 'Category']].head())\n"
      ],
      "metadata": {
        "id": "dHwxy6pbx1JF",
        "outputId": "c56a1b77-2187-4d02-b8f7-1c7c27197a7a",
        "colab": {
          "base_uri": "https://localhost:8080/"
        }
      },
      "id": "dHwxy6pbx1JF",
      "execution_count": 30,
      "outputs": [
        {
          "output_type": "stream",
          "name": "stdout",
          "text": [
            "                                         Review Text Sentiment  Category\n",
            "0  Absolutely wonderful - silky and sexy and comf...      Good     Other\n",
            "1  Love this dress!  it's sooo pretty.  i happene...      Good   Quality\n",
            "2  I had such high hopes for this dress and reall...      Good   Quality\n",
            "3  I love, love, love this jumpsuit. it's fun, fl...      Good  Shipping\n",
            "4  This shirt is very flattering to all due to th...      Good   Quality\n"
          ]
        }
      ]
    },
    {
      "cell_type": "code",
      "source": [
        "# Group by Category and Sentiment and count the occurrences\n",
        "amazon_sentiment_counts = amazon.groupby(['Category', 'Sentiment']).size().reset_index(name='Count')\n",
        "fashion_nova_sentiment_counts = fashion_nova.groupby(['Category', 'Sentiment']).size().reset_index(name='Count')\n",
        "\n",
        "# Display the counts for Amazon\n",
        "print(\"Amazon Review Sentiment Counts by Category:\")\n",
        "print(amazon_sentiment_counts)\n",
        "\n",
        "# Display the counts for Fashion Nova\n",
        "print(\"\\nFashion Nova Review Sentiment Counts by Category:\")\n",
        "print(fashion_nova_sentiment_counts)\n"
      ],
      "metadata": {
        "id": "LmUiuS95y437",
        "outputId": "1a4b13e9-120c-420c-cb8d-bfa11f129828",
        "colab": {
          "base_uri": "https://localhost:8080/"
        }
      },
      "id": "LmUiuS95y437",
      "execution_count": 31,
      "outputs": [
        {
          "output_type": "stream",
          "name": "stdout",
          "text": [
            "Amazon Review Sentiment Counts by Category:\n",
            "    Category Sentiment  Count\n",
            "0       Both       Bad     42\n",
            "1       Both      Good    431\n",
            "2       Both   Neutral      8\n",
            "3      Other       Bad     91\n",
            "4      Other      Good   1420\n",
            "5      Other   Neutral     38\n",
            "6    Quality       Bad    222\n",
            "7    Quality      Good   3826\n",
            "8    Quality   Neutral     43\n",
            "9   Shipping       Bad     12\n",
            "10  Shipping      Good    159\n",
            "11  Shipping   Neutral      4\n",
            "\n",
            "Fashion Nova Review Sentiment Counts by Category:\n",
            "    Category Sentiment  Count\n",
            "0       Both       Bad   1181\n",
            "1       Both      Good   5385\n",
            "2       Both   Neutral    259\n",
            "3      Other       Bad   5152\n",
            "4      Other      Good  41078\n",
            "5      Other   Neutral  44421\n",
            "6    Quality       Bad   1308\n",
            "7    Quality      Good  14807\n",
            "8    Quality   Neutral    902\n",
            "9   Shipping       Bad   3968\n",
            "10  Shipping      Good  11196\n",
            "11  Shipping   Neutral   2323\n"
          ]
        }
      ]
    },
    {
      "cell_type": "code",
      "source": [
        "# Calculate percentage of each sentiment within each category\n",
        "def calculate_percentage(df):\n",
        "    # Group by 'Category' and calculate total reviews in each category\n",
        "    total_by_category = df.groupby('Category').size().reset_index(name='Total')\n",
        "\n",
        "    # Group by 'Category' and 'Sentiment' and calculate counts for each sentiment\n",
        "    sentiment_counts = df.groupby(['Category', 'Sentiment']).size().reset_index(name='Count')\n",
        "\n",
        "    # Merge the total counts with sentiment counts\n",
        "    merged = sentiment_counts.merge(total_by_category, on='Category')\n",
        "\n",
        "    # Calculate the percentage of each sentiment within its category\n",
        "    merged['Percentage'] = (merged['Count'] / merged['Total']) * 100\n",
        "\n",
        "    return merged[['Category', 'Sentiment', 'Count', 'Total', 'Percentage']]\n",
        "\n",
        "# Apply the function to both datasets\n",
        "amazon_percentages = calculate_percentage(amazon)\n",
        "fashion_nova_percentages = calculate_percentage(fashion_nova)\n",
        "\n",
        "# Display the percentage results for Amazon\n",
        "print(\"Amazon Review Sentiment Percentages by Category:\")\n",
        "print(amazon_percentages)\n",
        "\n",
        "# Display the percentage results for Fashion Nova\n",
        "print(\"\\nFashion Nova Review Sentiment Percentages by Category:\")\n",
        "print(fashion_nova_percentages)\n"
      ],
      "metadata": {
        "id": "vX_gtjz4z6hP",
        "outputId": "391ba7f2-0a71-4ac0-86c0-7d403fcefd3b",
        "colab": {
          "base_uri": "https://localhost:8080/"
        }
      },
      "id": "vX_gtjz4z6hP",
      "execution_count": 32,
      "outputs": [
        {
          "output_type": "stream",
          "name": "stdout",
          "text": [
            "Amazon Review Sentiment Percentages by Category:\n",
            "    Category Sentiment  Count  Total  Percentage\n",
            "0       Both       Bad     42    481    8.731809\n",
            "1       Both      Good    431    481   89.604990\n",
            "2       Both   Neutral      8    481    1.663202\n",
            "3      Other       Bad     91   1549    5.874758\n",
            "4      Other      Good   1420   1549   91.672046\n",
            "5      Other   Neutral     38   1549    2.453196\n",
            "6    Quality       Bad    222   4091    5.426546\n",
            "7    Quality      Good   3826   4091   93.522366\n",
            "8    Quality   Neutral     43   4091    1.051088\n",
            "9   Shipping       Bad     12    175    6.857143\n",
            "10  Shipping      Good    159    175   90.857143\n",
            "11  Shipping   Neutral      4    175    2.285714\n",
            "\n",
            "Fashion Nova Review Sentiment Percentages by Category:\n",
            "    Category Sentiment  Count  Total  Percentage\n",
            "0       Both       Bad   1181   6825   17.304029\n",
            "1       Both      Good   5385   6825   78.901099\n",
            "2       Both   Neutral    259   6825    3.794872\n",
            "3      Other       Bad   5152  90651    5.683335\n",
            "4      Other      Good  41078  90651   45.314448\n",
            "5      Other   Neutral  44421  90651   49.002217\n",
            "6    Quality       Bad   1308  17017    7.686431\n",
            "7    Quality      Good  14807  17017   87.012987\n",
            "8    Quality   Neutral    902  17017    5.300582\n",
            "9   Shipping       Bad   3968  17487   22.691142\n",
            "10  Shipping      Good  11196  17487   64.024704\n",
            "11  Shipping   Neutral   2323  17487   13.284154\n"
          ]
        }
      ]
    },
    {
      "cell_type": "code",
      "source": [
        "import matplotlib.pyplot as plt\n",
        "import seaborn as sns\n",
        "\n",
        "# Add a column to distinguish between Amazon and Fashion Nova\n",
        "amazon_percentages['Platform'] = 'Amazon'\n",
        "fashion_nova_percentages['Platform'] = 'Fashion Nova'\n",
        "\n",
        "# Combine both datasets with platform distinction\n",
        "combined_percentages = pd.concat([amazon_percentages, fashion_nova_percentages], ignore_index=True, sort=False)\n",
        "# Plotting the data using seaborn\n",
        "plt.figure(figsize=(12, 6))\n",
        "sns.set(style=\"whitegrid\")\n",
        "\n",
        "# Create a bar plot with sentiment percentages for each category, separated by platform\n",
        "sns.barplot(data=combined_percentages, x='Category', y='Percentage', hue='Sentiment', ci=None,\n",
        "            palette='coolwarm', hue_order=['Good', 'Neutral', 'Bad'],\n",
        "            dodge=True)\n",
        "\n",
        "# Facet the plots by platform to make the distinction clear\n",
        "g = sns.catplot(data=combined_percentages, x='Category', y='Percentage', hue='Sentiment',\n",
        "                col='Platform', kind='bar', height=5, aspect=1, palette='coolwarm',\n",
        "                hue_order=['Good', 'Neutral', 'Bad'])\n",
        "\n",
        "# Add labels and title to the plot\n",
        "g.set_axis_labels(\"Category\", \"Percentage\")\n",
        "g.set_titles(\"{col_name} Reviews\")\n",
        "g.fig.suptitle('Sentiment Distribution by Category for Amazon and Fashion Nova', y=1.03, fontsize=14)\n",
        "\n",
        "# Show the plot\n",
        "plt.tight_layout()\n",
        "plt.show()\n"
      ],
      "metadata": {
        "id": "Qrju0gOi0Sf6",
        "outputId": "75d712d9-c00e-4cf3-de26-20d91ea57979",
        "colab": {
          "base_uri": "https://localhost:8080/",
          "height": 976
        }
      },
      "id": "Qrju0gOi0Sf6",
      "execution_count": 43,
      "outputs": [
        {
          "output_type": "stream",
          "name": "stderr",
          "text": [
            "<ipython-input-43-ea6e5fdcf648>:15: FutureWarning: \n",
            "\n",
            "The `ci` parameter is deprecated. Use `errorbar=None` for the same effect.\n",
            "\n",
            "  sns.barplot(data=combined_percentages, x='Category', y='Percentage', hue='Sentiment', ci=None,\n"
          ]
        },
        {
          "output_type": "error",
          "ename": "AttributeError",
          "evalue": "Rectangle.set() got an unexpected keyword argument 'col'",
          "traceback": [
            "\u001b[0;31m---------------------------------------------------------------------------\u001b[0m",
            "\u001b[0;31mAttributeError\u001b[0m                            Traceback (most recent call last)",
            "\u001b[0;32m<ipython-input-43-ea6e5fdcf648>\u001b[0m in \u001b[0;36m<cell line: 20>\u001b[0;34m()\u001b[0m\n\u001b[1;32m     18\u001b[0m \u001b[0;34m\u001b[0m\u001b[0m\n\u001b[1;32m     19\u001b[0m \u001b[0;31m# Facet the plots by platform to make the distinction clear\u001b[0m\u001b[0;34m\u001b[0m\u001b[0;34m\u001b[0m\u001b[0m\n\u001b[0;32m---> 20\u001b[0;31m g = sns.barplot(data=combined_percentages, x='Category', y='Percentage', hue='Sentiment',\n\u001b[0m\u001b[1;32m     21\u001b[0m                 \u001b[0mcol\u001b[0m\u001b[0;34m=\u001b[0m\u001b[0;34m'Platform'\u001b[0m\u001b[0;34m,\u001b[0m \u001b[0mkind\u001b[0m\u001b[0;34m=\u001b[0m\u001b[0;34m'bar'\u001b[0m\u001b[0;34m,\u001b[0m \u001b[0mheight\u001b[0m\u001b[0;34m=\u001b[0m\u001b[0;36m5\u001b[0m\u001b[0;34m,\u001b[0m \u001b[0maspect\u001b[0m\u001b[0;34m=\u001b[0m\u001b[0;36m1\u001b[0m\u001b[0;34m,\u001b[0m \u001b[0mpalette\u001b[0m\u001b[0;34m=\u001b[0m\u001b[0;34m'coolwarm'\u001b[0m\u001b[0;34m,\u001b[0m\u001b[0;34m\u001b[0m\u001b[0;34m\u001b[0m\u001b[0m\n\u001b[1;32m     22\u001b[0m                 hue_order=['Good', 'Neutral', 'Bad'])\n",
            "\u001b[0;32m/usr/local/lib/python3.10/dist-packages/seaborn/categorical.py\u001b[0m in \u001b[0;36mbarplot\u001b[0;34m(data, x, y, hue, order, hue_order, estimator, errorbar, n_boot, seed, units, weights, orient, color, palette, saturation, fill, hue_norm, width, dodge, gap, log_scale, native_scale, formatter, legend, capsize, err_kws, ci, errcolor, errwidth, ax, **kwargs)\u001b[0m\n\u001b[1;32m   2377\u001b[0m     \u001b[0merr_kws\u001b[0m\u001b[0;34m,\u001b[0m \u001b[0mcapsize\u001b[0m \u001b[0;34m=\u001b[0m \u001b[0mp\u001b[0m\u001b[0;34m.\u001b[0m\u001b[0m_err_kws_backcompat\u001b[0m\u001b[0;34m(\u001b[0m\u001b[0merr_kws\u001b[0m\u001b[0;34m,\u001b[0m \u001b[0merrcolor\u001b[0m\u001b[0;34m,\u001b[0m \u001b[0merrwidth\u001b[0m\u001b[0;34m,\u001b[0m \u001b[0mcapsize\u001b[0m\u001b[0;34m)\u001b[0m\u001b[0;34m\u001b[0m\u001b[0;34m\u001b[0m\u001b[0m\n\u001b[1;32m   2378\u001b[0m \u001b[0;34m\u001b[0m\u001b[0m\n\u001b[0;32m-> 2379\u001b[0;31m     p.plot_bars(\n\u001b[0m\u001b[1;32m   2380\u001b[0m         \u001b[0maggregator\u001b[0m\u001b[0;34m=\u001b[0m\u001b[0maggregator\u001b[0m\u001b[0;34m,\u001b[0m\u001b[0;34m\u001b[0m\u001b[0;34m\u001b[0m\u001b[0m\n\u001b[1;32m   2381\u001b[0m         \u001b[0mdodge\u001b[0m\u001b[0;34m=\u001b[0m\u001b[0mdodge\u001b[0m\u001b[0;34m,\u001b[0m\u001b[0;34m\u001b[0m\u001b[0;34m\u001b[0m\u001b[0m\n",
            "\u001b[0;32m/usr/local/lib/python3.10/dist-packages/seaborn/categorical.py\u001b[0m in \u001b[0;36mplot_bars\u001b[0;34m(self, aggregator, dodge, gap, width, fill, color, capsize, err_kws, plot_kws)\u001b[0m\n\u001b[1;32m   1312\u001b[0m                 \u001b[0mkws\u001b[0m\u001b[0;34m.\u001b[0m\u001b[0mupdate\u001b[0m\u001b[0;34m(\u001b[0m\u001b[0mcolor\u001b[0m\u001b[0;34m=\u001b[0m\u001b[0mmain_color\u001b[0m\u001b[0;34m,\u001b[0m \u001b[0medgecolor\u001b[0m\u001b[0;34m=\u001b[0m\u001b[0mmain_color\u001b[0m\u001b[0;34m,\u001b[0m \u001b[0mfacecolor\u001b[0m\u001b[0;34m=\u001b[0m\u001b[0;34m\"none\"\u001b[0m\u001b[0;34m)\u001b[0m\u001b[0;34m\u001b[0m\u001b[0;34m\u001b[0m\u001b[0m\n\u001b[1;32m   1313\u001b[0m \u001b[0;34m\u001b[0m\u001b[0m\n\u001b[0;32m-> 1314\u001b[0;31m             \u001b[0mbar_func\u001b[0m\u001b[0;34m(\u001b[0m\u001b[0;34m**\u001b[0m\u001b[0;34m{\u001b[0m\u001b[0;34m**\u001b[0m\u001b[0mkws\u001b[0m\u001b[0;34m,\u001b[0m \u001b[0;34m**\u001b[0m\u001b[0mplot_kws\u001b[0m\u001b[0;34m}\u001b[0m\u001b[0;34m)\u001b[0m\u001b[0;34m\u001b[0m\u001b[0;34m\u001b[0m\u001b[0m\n\u001b[0m\u001b[1;32m   1315\u001b[0m \u001b[0;34m\u001b[0m\u001b[0m\n\u001b[1;32m   1316\u001b[0m             \u001b[0;32mif\u001b[0m \u001b[0maggregator\u001b[0m\u001b[0;34m.\u001b[0m\u001b[0merror_method\u001b[0m \u001b[0;32mis\u001b[0m \u001b[0;32mnot\u001b[0m \u001b[0;32mNone\u001b[0m\u001b[0;34m:\u001b[0m\u001b[0;34m\u001b[0m\u001b[0;34m\u001b[0m\u001b[0m\n",
            "\u001b[0;32m/usr/local/lib/python3.10/dist-packages/matplotlib/__init__.py\u001b[0m in \u001b[0;36minner\u001b[0;34m(ax, data, *args, **kwargs)\u001b[0m\n\u001b[1;32m   1440\u001b[0m     \u001b[0;32mdef\u001b[0m \u001b[0minner\u001b[0m\u001b[0;34m(\u001b[0m\u001b[0max\u001b[0m\u001b[0;34m,\u001b[0m \u001b[0;34m*\u001b[0m\u001b[0margs\u001b[0m\u001b[0;34m,\u001b[0m \u001b[0mdata\u001b[0m\u001b[0;34m=\u001b[0m\u001b[0;32mNone\u001b[0m\u001b[0;34m,\u001b[0m \u001b[0;34m**\u001b[0m\u001b[0mkwargs\u001b[0m\u001b[0;34m)\u001b[0m\u001b[0;34m:\u001b[0m\u001b[0;34m\u001b[0m\u001b[0;34m\u001b[0m\u001b[0m\n\u001b[1;32m   1441\u001b[0m         \u001b[0;32mif\u001b[0m \u001b[0mdata\u001b[0m \u001b[0;32mis\u001b[0m \u001b[0;32mNone\u001b[0m\u001b[0;34m:\u001b[0m\u001b[0;34m\u001b[0m\u001b[0;34m\u001b[0m\u001b[0m\n\u001b[0;32m-> 1442\u001b[0;31m             \u001b[0;32mreturn\u001b[0m \u001b[0mfunc\u001b[0m\u001b[0;34m(\u001b[0m\u001b[0max\u001b[0m\u001b[0;34m,\u001b[0m \u001b[0;34m*\u001b[0m\u001b[0mmap\u001b[0m\u001b[0;34m(\u001b[0m\u001b[0msanitize_sequence\u001b[0m\u001b[0;34m,\u001b[0m \u001b[0margs\u001b[0m\u001b[0;34m)\u001b[0m\u001b[0;34m,\u001b[0m \u001b[0;34m**\u001b[0m\u001b[0mkwargs\u001b[0m\u001b[0;34m)\u001b[0m\u001b[0;34m\u001b[0m\u001b[0;34m\u001b[0m\u001b[0m\n\u001b[0m\u001b[1;32m   1443\u001b[0m \u001b[0;34m\u001b[0m\u001b[0m\n\u001b[1;32m   1444\u001b[0m         \u001b[0mbound\u001b[0m \u001b[0;34m=\u001b[0m \u001b[0mnew_sig\u001b[0m\u001b[0;34m.\u001b[0m\u001b[0mbind\u001b[0m\u001b[0;34m(\u001b[0m\u001b[0max\u001b[0m\u001b[0;34m,\u001b[0m \u001b[0;34m*\u001b[0m\u001b[0margs\u001b[0m\u001b[0;34m,\u001b[0m \u001b[0;34m**\u001b[0m\u001b[0mkwargs\u001b[0m\u001b[0;34m)\u001b[0m\u001b[0;34m\u001b[0m\u001b[0;34m\u001b[0m\u001b[0m\n",
            "\u001b[0;32m/usr/local/lib/python3.10/dist-packages/matplotlib/axes/_axes.py\u001b[0m in \u001b[0;36mbar\u001b[0;34m(self, x, height, width, bottom, align, **kwargs)\u001b[0m\n\u001b[1;32m   2486\u001b[0m                 \u001b[0mhatch\u001b[0m\u001b[0;34m=\u001b[0m\u001b[0mhtch\u001b[0m\u001b[0;34m,\u001b[0m\u001b[0;34m\u001b[0m\u001b[0;34m\u001b[0m\u001b[0m\n\u001b[1;32m   2487\u001b[0m                 )\n\u001b[0;32m-> 2488\u001b[0;31m             \u001b[0mr\u001b[0m\u001b[0;34m.\u001b[0m\u001b[0m_internal_update\u001b[0m\u001b[0;34m(\u001b[0m\u001b[0mkwargs\u001b[0m\u001b[0;34m)\u001b[0m\u001b[0;34m\u001b[0m\u001b[0;34m\u001b[0m\u001b[0m\n\u001b[0m\u001b[1;32m   2489\u001b[0m             \u001b[0mr\u001b[0m\u001b[0;34m.\u001b[0m\u001b[0mget_path\u001b[0m\u001b[0;34m(\u001b[0m\u001b[0;34m)\u001b[0m\u001b[0;34m.\u001b[0m\u001b[0m_interpolation_steps\u001b[0m \u001b[0;34m=\u001b[0m \u001b[0;36m100\u001b[0m\u001b[0;34m\u001b[0m\u001b[0;34m\u001b[0m\u001b[0m\n\u001b[1;32m   2490\u001b[0m             \u001b[0;32mif\u001b[0m \u001b[0morientation\u001b[0m \u001b[0;34m==\u001b[0m \u001b[0;34m'vertical'\u001b[0m\u001b[0;34m:\u001b[0m\u001b[0;34m\u001b[0m\u001b[0;34m\u001b[0m\u001b[0m\n",
            "\u001b[0;32m/usr/local/lib/python3.10/dist-packages/matplotlib/artist.py\u001b[0m in \u001b[0;36m_internal_update\u001b[0;34m(self, kwargs)\u001b[0m\n\u001b[1;32m   1221\u001b[0m         \u001b[0mThe\u001b[0m \u001b[0mlack\u001b[0m \u001b[0mof\u001b[0m \u001b[0mprenormalization\u001b[0m \u001b[0;32mis\u001b[0m \u001b[0mto\u001b[0m \u001b[0mmaintain\u001b[0m \u001b[0mbackcompatibility\u001b[0m\u001b[0;34m.\u001b[0m\u001b[0;34m\u001b[0m\u001b[0;34m\u001b[0m\u001b[0m\n\u001b[1;32m   1222\u001b[0m         \"\"\"\n\u001b[0;32m-> 1223\u001b[0;31m         return self._update_props(\n\u001b[0m\u001b[1;32m   1224\u001b[0m             \u001b[0mkwargs\u001b[0m\u001b[0;34m,\u001b[0m \u001b[0;34m\"{cls.__name__}.set() got an unexpected keyword argument \"\u001b[0m\u001b[0;34m\u001b[0m\u001b[0;34m\u001b[0m\u001b[0m\n\u001b[1;32m   1225\u001b[0m             \"{prop_name!r}\")\n",
            "\u001b[0;32m/usr/local/lib/python3.10/dist-packages/matplotlib/artist.py\u001b[0m in \u001b[0;36m_update_props\u001b[0;34m(self, props, errfmt)\u001b[0m\n\u001b[1;32m   1195\u001b[0m                     \u001b[0mfunc\u001b[0m \u001b[0;34m=\u001b[0m \u001b[0mgetattr\u001b[0m\u001b[0;34m(\u001b[0m\u001b[0mself\u001b[0m\u001b[0;34m,\u001b[0m \u001b[0;34mf\"set_{k}\"\u001b[0m\u001b[0;34m,\u001b[0m \u001b[0;32mNone\u001b[0m\u001b[0;34m)\u001b[0m\u001b[0;34m\u001b[0m\u001b[0;34m\u001b[0m\u001b[0m\n\u001b[1;32m   1196\u001b[0m                     \u001b[0;32mif\u001b[0m \u001b[0;32mnot\u001b[0m \u001b[0mcallable\u001b[0m\u001b[0;34m(\u001b[0m\u001b[0mfunc\u001b[0m\u001b[0;34m)\u001b[0m\u001b[0;34m:\u001b[0m\u001b[0;34m\u001b[0m\u001b[0;34m\u001b[0m\u001b[0m\n\u001b[0;32m-> 1197\u001b[0;31m                         raise AttributeError(\n\u001b[0m\u001b[1;32m   1198\u001b[0m                             errfmt.format(cls=type(self), prop_name=k))\n\u001b[1;32m   1199\u001b[0m                     \u001b[0mret\u001b[0m\u001b[0;34m.\u001b[0m\u001b[0mappend\u001b[0m\u001b[0;34m(\u001b[0m\u001b[0mfunc\u001b[0m\u001b[0;34m(\u001b[0m\u001b[0mv\u001b[0m\u001b[0;34m)\u001b[0m\u001b[0;34m)\u001b[0m\u001b[0;34m\u001b[0m\u001b[0;34m\u001b[0m\u001b[0m\n",
            "\u001b[0;31mAttributeError\u001b[0m: Rectangle.set() got an unexpected keyword argument 'col'"
          ]
        },
        {
          "output_type": "display_data",
          "data": {
            "text/plain": [
              "<Figure size 1200x600 with 1 Axes>"
            ],
            "image/png": "[encoded data removed]"
          },
          "metadata": {}
        }
      ]
    },
    {
      "cell_type": "code",
      "source": [
        "plt.figure(figsize=(12, 6))\n",
        "sns.set(style=\"whitegrid\")\n",
        "\n",
        "# Create a bar plot with sentiment percentages for each category, separated by platform\n",
        "sns.barplot(data=combined_percentages, x='Category', y='Percentage', hue='Platform',\n",
        "            ci=None, palette='coolwarm', dodge=True,\n",
        "            hue_order=['Amazon', 'Fashion Nova'],\n",
        "            order=['Shipping', 'Quality', 'Both'])\n",
        "\n",
        "# Add labels and title\n",
        "plt.title('Sentiment Distribution by Category for Amazon and Fashion Nova', fontsize=14)\n",
        "plt.xlabel('Category', fontsize=12)\n",
        "plt.ylabel('Percentage', fontsize=12)\n",
        "\n",
        "# Show the legend and the plot\n",
        "plt.legend(title='Platform')\n",
        "plt.tight_layout()\n",
        "plt.show()\n"
      ],
      "metadata": {
        "id": "9_2vqm7G1XuY",
        "outputId": "d304ee2e-e2bd-4e82-8985-9376489802f6",
        "colab": {
          "base_uri": "https://localhost:8080/",
          "height": 687
        }
      },
      "id": "9_2vqm7G1XuY",
      "execution_count": 42,
      "outputs": [
        {
          "output_type": "stream",
          "name": "stderr",
          "text": [
            "<ipython-input-42-7f26360d57a9>:5: FutureWarning: \n",
            "\n",
            "The `ci` parameter is deprecated. Use `errorbar=None` for the same effect.\n",
            "\n",
            "  sns.barplot(data=combined_percentages, x='Category', y='Percentage', hue='Platform',\n"
          ]
        },
        {
          "output_type": "display_data",
          "data": {
            "text/plain": [
              "<Figure size 1200x600 with 1 Axes>"
            ],
            "image/png": "[encoded data removed]"
          },
          "metadata": {}
        }
      ]
    },
    {
      "cell_type": "code",
      "source": [
        "# Function to plot data for a specific category\n",
        "def plot_category(category, df):\n",
        "    plt.figure(figsize=(8, 6))\n",
        "    sns.set(style=\"whitegrid\")\n",
        "\n",
        "    # Filter the DataFrame for the specific category\n",
        "    category_df = df[df['Category'] == category]\n",
        "\n",
        "    # Create a bar plot for the category\n",
        "    sns.barplot(data=category_df, x='Sentiment', y='Percentage', hue='Platform',\n",
        "                ci=None, palette='coolwarm', dodge=True, hue_order=['Amazon', 'Fashion Nova'])\n",
        "\n",
        "    # Add labels and title\n",
        "    plt.title(f'Sentiment Analysis for {category} Reviews', fontsize=14)\n",
        "    plt.xlabel('Sentiment', fontsize=12)\n",
        "    plt.ylabel('Percentage', fontsize=12)\n",
        "    plt.legend(title='Platform')\n",
        "\n",
        "    # Show the plot\n",
        "    plt.tight_layout()\n",
        "    plt.show()\n",
        "\n",
        "# Plot for Shipping category\n",
        "plot_category('Shipping', combined_percentages)\n",
        "\n",
        "# Plot for Quality category\n",
        "plot_category('Quality', combined_percentages)\n",
        "\n",
        "# Plot for Both category\n",
        "plot_category('Both', combined_percentages)\n"
      ],
      "metadata": {
        "id": "afjJoyyQ3S0e",
        "outputId": "aec57e66-4ce3-4cda-e4a2-f7ec52099c30",
        "colab": {
          "base_uri": "https://localhost:8080/",
          "height": 1000
        }
      },
      "id": "afjJoyyQ3S0e",
      "execution_count": 44,
      "outputs": [
        {
          "output_type": "stream",
          "name": "stderr",
          "text": [
            "<ipython-input-44-e85c64d27077>:10: FutureWarning: \n",
            "\n",
            "The `ci` parameter is deprecated. Use `errorbar=None` for the same effect.\n",
            "\n",
            "  sns.barplot(data=category_df, x='Sentiment', y='Percentage', hue='Platform',\n"
          ]
        },
        {
          "output_type": "display_data",
          "data": {
            "text/plain": [
              "<Figure size 800x600 with 1 Axes>"
            ],
            "image/png": "[encoded data removed]"
          },
          "metadata": {}
        },
        {
          "output_type": "stream",
          "name": "stderr",
          "text": [
            "<ipython-input-44-e85c64d27077>:10: FutureWarning: \n",
            "\n",
            "The `ci` parameter is deprecated. Use `errorbar=None` for the same effect.\n",
            "\n",
            "  sns.barplot(data=category_df, x='Sentiment', y='Percentage', hue='Platform',\n"
          ]
        },
        {
          "output_type": "display_data",
          "data": {
            "text/plain": [
              "<Figure size 800x600 with 1 Axes>"
            ],
            "image/png": "[encoded data removed]"
          },
          "metadata": {}
        },
        {
          "output_type": "stream",
          "name": "stderr",
          "text": [
            "<ipython-input-44-e85c64d27077>:10: FutureWarning: \n",
            "\n",
            "The `ci` parameter is deprecated. Use `errorbar=None` for the same effect.\n",
            "\n",
            "  sns.barplot(data=category_df, x='Sentiment', y='Percentage', hue='Platform',\n"
          ]
        },
        {
          "output_type": "display_data",
          "data": {
            "text/plain": [
              "<Figure size 800x600 with 1 Axes>"
            ],
            "image/png": "[encoded data removed]"
          },
          "metadata": {}
        }
      ]
    }
  ],
  "metadata": {
    "colab": {
      "provenance": []
    },
    "kernelspec": {
      "display_name": "Python 3 (ipykernel)",
      "language": "python",
      "name": "python3"
    },
    "language_info": {
      "codemirror_mode": {
        "name": "ipython",
        "version": 3
      },
      "file_extension": ".py",
      "mimetype": "text/x-python",
      "name": "python",
      "nbconvert_exporter": "python",
      "pygments_lexer": "ipython3",
      "version": "3.10.4"
    }
  },
  "nbformat": 4,
  "nbformat_minor": 5
}